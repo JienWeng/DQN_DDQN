{
 "cells": [
  {
   "cell_type": "markdown",
   "id": "09ef13eb",
   "metadata": {},
   "source": [
    "# DQN and Double DQN Implementation and Evaluation\n",
    "\n",
    "This notebook demonstrates how to run the DQN and Double DQN implementation on Google Colab with GPU acceleration."
   ]
  },
  {
   "cell_type": "markdown",
   "id": "87527502",
   "metadata": {},
   "source": [
    "## Setup\n",
    "\n",
    "First, let's set up the environment by installing the required packages and cloning the repository:"
   ]
  },
  {
   "cell_type": "code",
   "execution_count": null,
   "id": "22f8901b",
   "metadata": {},
   "outputs": [],
   "source": [
    "# Clone the repository\n",
    "!git clone https://github.com/YourGithubUsername/DQN.git\n",
    "%cd DQN\n",
    "\n",
    "# Install dependencies\n",
    "!pip install torch torchvision matplotlib numpy opencv-python tqdm\n",
    "!pip install \"gymnasium[atari,accept-rom-license]\"\n",
    "\n",
    "# Verify GPU availability\n",
    "import torch\n",
    "print(f\"CUDA available: {torch.cuda.is_available()}\")\n",
    "if torch.cuda.is_available():\n",
    "    print(f\"GPU: {torch.cuda.get_device_name(0)}\")"
   ]
  },
  {
   "cell_type": "markdown",
   "id": "b34754a9",
   "metadata": {},
   "source": [
    "## Train a DQN Agent\n",
    "\n",
    "Let's train a DQN agent on the CartPole environment:"
   ]
  },
  {
   "cell_type": "code",
   "execution_count": null,
   "id": "3da79a25",
   "metadata": {},
   "outputs": [],
   "source": [
    "!python main.py train --env_name CartPole-v1 --agent_type dqn --total_episodes 100 --eval_frequency 20"
   ]
  },
  {
   "cell_type": "markdown",
   "id": "d58d31c2",
   "metadata": {},
   "source": [
    "## Compare DQN and Double DQN\n",
    "\n",
    "Now let's compare DQN and Double DQN on the CartPole environment:"
   ]
  },
  {
   "cell_type": "code",
   "execution_count": null,
   "id": "52fbdb16",
   "metadata": {},
   "outputs": [],
   "source": [
    "!python main.py compare --env_name CartPole-v1 --total_episodes 100 --eval_frequency 20"
   ]
  },
  {
   "cell_type": "markdown",
   "id": "d0d23fc3",
   "metadata": {},
   "source": [
    "## Run with Multiple Seeds for Paper-Style Plots\n",
    "\n",
    "For more statistically significant results, we can run the comparison with multiple random seeds:"
   ]
  },
  {
   "cell_type": "code",
   "execution_count": null,
   "id": "6677b483",
   "metadata": {},
   "outputs": [],
   "source": [
    "!python main.py compare --env_name CartPole-v1 --total_episodes 100 --seeds 3 --plot_paper_style --eval_frequency 20"
   ]
  },
  {
   "cell_type": "markdown",
   "id": "79f0f4cd",
   "metadata": {},
   "source": [
    "## Generate Paper-Style Figures\n",
    "\n",
    "After running the experiments, we can generate paper-style figures:"
   ]
  },
  {
   "cell_type": "code",
   "execution_count": null,
   "id": "ce57d9b6",
   "metadata": {},
   "outputs": [],
   "source": [
    "!python plot_paper_figure.py --env_name CartPole-v1"
   ]
  },
  {
   "cell_type": "markdown",
   "id": "114e1288",
   "metadata": {},
   "source": [
    "## View the Generated Plots\n",
    "\n",
    "Let's display the plots that were generated:"
   ]
  },
  {
   "cell_type": "code",
   "execution_count": null,
   "id": "fd88f8b6",
   "metadata": {},
   "outputs": [],
   "source": [
    "from IPython.display import Image, display\n",
    "import glob\n",
    "\n",
    "# Display paper-style figures\n",
    "paper_figures = glob.glob('results/paper_figures/*.png')\n",
    "for fig_path in paper_figures:\n",
    "    display(Image(filename=fig_path))\n",
    "    print(f\"Figure: {fig_path}\")\n",
    "\n",
    "# Display other plots\n",
    "other_plots = glob.glob('results/plots/*.png')\n",
    "for plot_path in other_plots:\n",
    "    display(Image(filename=plot_path))\n",
    "    print(f\"Plot: {plot_path}\")"
   ]
  }
 ],
 "metadata": {
  "language_info": {
   "name": "python"
  }
 },
 "nbformat": 4,
 "nbformat_minor": 5
}
